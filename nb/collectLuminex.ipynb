{
 "cells": [
  {
   "cell_type": "markdown",
   "id": "0047ccb8",
   "metadata": {},
   "source": [
    "# trying to sort the entire Luminex dataset\n",
    "+ ### there have been some previous runs \n",
    "+ ### then, there were three runs in 2021:\n",
    "    * #### 20211021\n",
    "        + naming only in \"Multiple Data\"\n",
    "        + doublet (complete) data in \"Rawdata.csv\"\n",
    "    * #### 20211102 (standard curve from 20211021)\n",
    "        + naming only in \"Multiple Data\"\n",
    "        + doublet (without standard) in Rawdata.csv\n",
    "    * #### 20211222 (naming and doublets in Rawdata.xlsx)\n",
    "+ ### I have received data (Multiple_Data_3-Plex_Conan_ISA.xlsx etc)\n",
    "+ ### Sté has received other data later (3-Plex_ISA_conc.xlsx etc)\n",
    "+ ### strategy is to\n",
    "    * #### first get in all the raw data as well - assignment - value\n",
    "    * #### calculate the standard curves\n",
    "    * #### derive the concentrations from the standard curves\n",
    "    * #### create a relational table assigning date and well to sample\n",
    "   "
   ]
  },
  {
   "cell_type": "markdown",
   "id": "8780c325",
   "metadata": {},
   "source": [
    "## load in the raw data"
   ]
  },
  {
   "cell_type": "code",
   "execution_count": null,
   "id": "4e5dbf7b",
   "metadata": {
    "ExecuteTime": {
     "end_time": "2022-02-16T20:34:14.594012Z",
     "start_time": "2022-02-16T20:34:14.584922Z"
    }
   },
   "outputs": [],
   "source": [
    "home = os.environ['HOME']\n",
    "data_path = os.path.join(home, \"/Users/martinszyska/Dropbox/Icke/Work/Luminex/LuminexData\")"
   ]
  },
  {
   "cell_type": "markdown",
   "id": "0cd3b451",
   "metadata": {},
   "source": [
    "### read header info"
   ]
  },
  {
   "cell_type": "code",
   "execution_count": null,
   "id": "02dd912b",
   "metadata": {
    "ExecuteTime": {
     "end_time": "2022-02-16T20:34:15.670617Z",
     "start_time": "2022-02-16T20:34:15.653853Z"
    }
   },
   "outputs": [],
   "source": [
    "def read_csv_header(csv_file):\n",
    "    '''\n",
    "    reads the plate_info from a csv raw data file\n",
    "    returns series with info\n",
    "    '''\n",
    "    \n",
    "    plate_info = pd.read_csv(csv_file, nrows=6, names=['info'], sep=\"\\t\", encoding = \"ISO-8859-1\")\n",
    "    plate_info['PlateID'] = plate_info['info'].str.split(\": \").str[0]\n",
    "    plate_info['data'] = plate_info['info'].str.split(\": \").str[1].str.rstrip(\";\")\n",
    "    plate_info = plate_info.drop('info', axis=1).set_index('PlateID')\n",
    "    return plate_info['data']\n",
    "\n",
    "\n",
    "def read_excel_header(excel_file):\n",
    "    '''\n",
    "    reads the plate_info from a csv raw data file\n",
    "    returns series with info\n",
    "    '''\n",
    "    \n",
    "    info = pd.read_excel(excel_file, nrows=6, header=None)\n",
    "    plate_info = pd.DataFrame()\n",
    "    plate_info['PlateID'] = info[0].str.split(\": \").str[0]\n",
    "    plate_info['data'] = info[0].str.split(\": \").str[1].str.rstrip(\";\")\n",
    "    plate_info = plate_info.set_index('PlateID')\n",
    "    \n",
    "    return plate_info['data']\n",
    "\n",
    "\n",
    "def read_header(file, is_excel=False):\n",
    "    '''\n",
    "    reads all the info from a luminex header (excel or csv)\n",
    "    '''\n",
    "\n",
    "    # read basic data based on extension\n",
    "    plate_info = read_excel_header(file) if is_excel else read_csv_header(file)\n",
    "        \n",
    "    # wrangle the data and add run and plex from file name\n",
    "    plate_df = plate_info.rename({\n",
    "        \"Plate ID\": \"orgPlateID\",\n",
    "        \"File Name\": \"RawdataPath\",\n",
    "        \"Acquisition Date\": \"AcquisitionTime\",\n",
    "        \"Reader Serial Number\": \"ReaderID\", \n",
    "        \"RP1 PMT (Volts)\": \"RP1_PMT\",\n",
    "        \"RP1 Target\": \"RP1_Target\"\n",
    "    }).to_frame().T.reset_index(drop=\"True\")\n",
    "    \n",
    "    return plate_df\n"
   ]
  },
  {
   "cell_type": "markdown",
   "id": "327cfa19",
   "metadata": {},
   "source": [
    "#### header readout is saved as a plate-based row in the plate_df"
   ]
  },
  {
   "cell_type": "code",
   "execution_count": null,
   "id": "ca2e95b1",
   "metadata": {
    "ExecuteTime": {
     "end_time": "2022-02-16T20:34:17.841990Z",
     "start_time": "2022-02-16T20:34:17.809100Z"
    }
   },
   "outputs": [],
   "source": [
    "csv_file = os.path.join(data_path, \"3-Plex/20211102_3-Plex_ISA_Rawdata.csv\")\n",
    "excel_file = os.path.join(data_path, \"38-Plex/20211222_38-Plex_ISA_Rawdata.xlsx\")\n",
    "\n",
    "plate_df = read_header(csv_file)\n",
    "plate_df"
   ]
  },
  {
   "cell_type": "markdown",
   "id": "f345ff81",
   "metadata": {},
   "source": [
    "### read the raw data"
   ]
  },
  {
   "cell_type": "code",
   "execution_count": null,
   "id": "bd527f1b",
   "metadata": {
    "ExecuteTime": {
     "end_time": "2022-02-16T20:40:42.504979Z",
     "start_time": "2022-02-16T20:40:42.487728Z"
    }
   },
   "outputs": [],
   "source": [
    "def get_run_plex(file):\n",
    "    '''\n",
    "    retrieve run and flex from the file name\n",
    "    '''\n",
    "    s = os.path.basename(file).split(\"_\")\n",
    "    run = s[0]\n",
    "    plex = [d for d in s if d.endswith(\"Plex\")][0]\n",
    "    return run, plex\n",
    "\n",
    "\n",
    "def read_raw_plate(file):\n",
    "    '''\n",
    "    reads a Luminex raw data file\n",
    "    autodetects format\n",
    "    returns plate_data as series and well_raw data a df\n",
    "    '''\n",
    "    \n",
    "    # get info from filename\n",
    "    run, plex = get_run_plex(file)\n",
    "    \n",
    "    ### header\n",
    "    # read file depending on extension \n",
    "    is_excel = file.split(\".\")[-1].startswith(\"xls\")\n",
    "    \n",
    "    # read header and add \n",
    "    header = read_header(file, is_excel)\n",
    "    header['Run'] = run\n",
    "    header['Plex'] = plex\n",
    "    header = header.loc[:, ['Run', 'Plex'] + list(header.columns[:-2])]\n",
    "    # read the raw data body\n",
    "    data = pd.read_excel(file, skiprows=7) if is_excel else pd.read_csv(file, skiprows=7, sep=\";\", encoding = \"ISO-8859-1\")\n",
    "    data = data.rename({'Sampling Errors':'SamplingErrors'}, axis=1)\n",
    "\n",
    "    # adjust the Gene headers\n",
    "    # get the genes and headers into the col_df\n",
    "    col_df = pd.DataFrame(data.columns[2:-1])[0].str.extract(r\"([^(]+) \\(([0-9]+)\\)\").rename({0:\"Gene\", 1:\"col\"}, axis=1)\n",
    "    cols = col_df.columns\n",
    "    col_df['Run'] = run\n",
    "    col_df['Plex'] = plex\n",
    "    col_df = col_df.loc[:, ['Run', 'Plex'] + list(cols)]\n",
    "    \n",
    "    \n",
    "    # apply the cleaned gene names to the column names\n",
    "    data.columns = list(data.columns[:2]) + list(col_df['Gene']) + list(data.columns[-1:])\n",
    "    # stack the data\n",
    "    data = data.melt(id_vars=['Well', 'Type', 'SamplingErrors'], var_name=\"Gene\", value_name=\"FI\")\n",
    "    data.loc[:, 'FI'] = data['FI'].str.replace(\",\", \".\").str.replace(r\"***\", \"0\", regex=False).astype(float)\n",
    "    cols = data.columns\n",
    "    # add run as id\n",
    "    data['Run'] = run\n",
    "    data['Plex'] = plex\n",
    "    data = data.loc[:, ['Run', 'Plex'] + list(cols)]\n",
    "    \n",
    "    # detect if standard has been used\n",
    "    has_standard = len(data['Type'].str.extract(r\"^(S[1-8])$\").dropna()[0].unique()) == 8\n",
    "    header['hasStandard'] = has_standard\n",
    "    \n",
    "    return header, data, col_df"
   ]
  },
  {
   "cell_type": "code",
   "execution_count": null,
   "id": "e820a40d",
   "metadata": {
    "ExecuteTime": {
     "end_time": "2022-02-16T20:40:43.042108Z",
     "start_time": "2022-02-16T20:40:43.011316Z"
    }
   },
   "outputs": [],
   "source": [
    "file = os.path.join(data_path, \"3-Plex/20211021_3-Plex_ISA_Rawdata.csv\")\n",
    "h, d, c = read_raw_plate(file)\n",
    "d"
   ]
  },
  {
   "cell_type": "markdown",
   "id": "496025a9",
   "metadata": {},
   "source": [
    "### read_out the computed concentrations and the expected concentration for the standards"
   ]
  },
  {
   "cell_type": "code",
   "execution_count": null,
   "id": "0ed8d2c1",
   "metadata": {
    "ExecuteTime": {
     "end_time": "2022-02-16T20:40:45.414987Z",
     "start_time": "2022-02-16T20:40:45.404500Z"
    }
   },
   "outputs": [],
   "source": [
    "test1 = \"20211021_Multiple_Data_3-Plex_Conan_ISA.xlsx\"\n",
    "test2 = \"20211102_Multiple_Data_3-Plex_Conan_Messung 2_ISA.xlsx\"\n",
    "test3 = \"20211102_3-Plex_ISA_Rawdata.csv\"\n",
    "\n",
    "\n",
    "get_run_plex(test3)"
   ]
  },
  {
   "cell_type": "code",
   "execution_count": null,
   "id": "1c594e34",
   "metadata": {
    "ExecuteTime": {
     "end_time": "2022-02-16T20:40:45.951797Z",
     "start_time": "2022-02-16T20:40:45.932701Z"
    }
   },
   "outputs": [],
   "source": [
    "def read_standard_from_conc(file):\n",
    "    '''\n",
    "    reads the expected start concentration for the standards\n",
    "    '''\n",
    "    # read_out the standard concentrations\n",
    "    df = pd.read_excel(file, skiprows=7, sheet_name=\"Exp Conc\")\n",
    "    # create a Gene df from the columns\n",
    "    col_df = pd.DataFrame(df.columns[2:])[0].str.extract(r\"([^(]+) \\(([0-9]+)\\)\").rename({0:\"Gene\", 1:\"col\"}, axis=1)\n",
    "    col_df['S1'] = df.iloc[1:2,2:].T.reset_index().iloc[:,1].str.replace(\",\", \".\").astype(float)\n",
    "    cols = col_df.columns\n",
    "    run, plex = get_run_plex(file)\n",
    "    col_df['Run'] = run\n",
    "    col_df['Plex'] = plex\n",
    "    col_df = col_df.loc[:, ['Run', 'Plex'] + list(cols)]\n",
    "    return col_df\n",
    "\n",
    "\n",
    "def convert2float(df):\n",
    "\n",
    "    for col in ['conc']:\n",
    "        df.loc[:, col] = df[col].str.replace(\"---\", \"-1\")\n",
    "        df.loc[:, col] = df[col].str.replace(\",\", \".\", regex=False)\n",
    "        df.loc[:, col] = df[col].str.replace(\"OOR <\", \"-2\", regex=False).str.replace(\"OOR >\", \"-1\", regex=False)\n",
    "        df.loc[:, col] = df[col].str.replace(\"***\", \"-3\", regex=False).str.replace(\"*\", \"\", regex=False)\n",
    "        df.loc[:, col] = df[col].astype(float)\n",
    "    return df\n",
    "\n",
    "def read_conc_plate(file):\n",
    "    '''\n",
    "    reads from a checkimmune output excel file both the expected concentrations of the respective plex --> col_df\n",
    "    and the computed values --> conc_df\n",
    "    '''\n",
    "    \n",
    "    # read the plex info\n",
    "    col_df = read_standard_from_conc(file)\n",
    "    \n",
    "    # read the concentration\n",
    "    conc_df = pd.read_excel(file, skiprows=7, sheet_name=\"Obs Conc\").iloc[1:, :].reset_index(drop=True)\n",
    "    \n",
    "    # apply the cleaned gene names to the column names\n",
    "    conc_df.columns = ['Type', 'Well'] + list(col_df['Gene'])\n",
    "    # keep only data columns\n",
    "    conc_df = conc_df.query('Well == Well')\n",
    "    conc_df = conc_df.loc[~(conc_df['Type'].str.match(r\"[eE]?[SC][1-8]\")), :].reset_index(drop=True)\n",
    "    conc_df = conc_df.melt(id_vars=['Well', 'Type'], var_name=\"Gene\", value_name=\"conc\")\n",
    "\n",
    "    # add run as id\n",
    "    run, plex = get_run_plex(file)\n",
    "    \n",
    "    conc_df = convert2float(conc_df.set_index(['Type', 'Well'])).reset_index()\n",
    "    cols = conc_df.columns\n",
    "    conc_df['Run'] = run\n",
    "    conc_df['Plex'] = plex\n",
    "    conc_df = conc_df.loc[:, ['Run', 'Plex'] + list(cols)] \n",
    "    return conc_df, col_df"
   ]
  },
  {
   "cell_type": "code",
   "execution_count": null,
   "id": "db4b551b",
   "metadata": {
    "ExecuteTime": {
     "end_time": "2022-02-16T20:40:47.116142Z",
     "start_time": "2022-02-16T20:40:47.041116Z"
    }
   },
   "outputs": [],
   "source": [
    "file = os.path.join(data_path, \"38-Plex/20211021_38-Plex_ISA_conc.xlsx\")\n",
    "col_df = read_standard_from_conc(file)\n",
    "col_df[:3]"
   ]
  },
  {
   "cell_type": "code",
   "execution_count": null,
   "id": "6c819d1f",
   "metadata": {
    "ExecuteTime": {
     "end_time": "2022-02-16T20:40:48.650620Z",
     "start_time": "2022-02-16T20:40:48.525300Z"
    }
   },
   "outputs": [],
   "source": [
    "conc_df, col_df = read_conc_plate(file)\n",
    "conc_df"
   ]
  },
  {
   "cell_type": "markdown",
   "id": "cc0e7c10",
   "metadata": {},
   "source": [
    "### csv"
   ]
  },
  {
   "cell_type": "code",
   "execution_count": null,
   "id": "9ae57dc5",
   "metadata": {
    "ExecuteTime": {
     "end_time": "2022-02-16T20:40:49.845037Z",
     "start_time": "2022-02-16T20:40:49.759750Z"
    }
   },
   "outputs": [],
   "source": [
    "h, data, col_df = read_raw_plate(excel_file)\n",
    "col_df[:3]"
   ]
  },
  {
   "cell_type": "code",
   "execution_count": null,
   "id": "9b53876f",
   "metadata": {
    "ExecuteTime": {
     "end_time": "2022-02-16T20:40:50.297174Z",
     "start_time": "2022-02-16T20:40:50.279923Z"
    }
   },
   "outputs": [],
   "source": [
    "data"
   ]
  },
  {
   "cell_type": "code",
   "execution_count": null,
   "id": "c1ce12b2",
   "metadata": {
    "ExecuteTime": {
     "end_time": "2022-02-16T20:40:50.820819Z",
     "start_time": "2022-02-16T20:40:50.800530Z"
    }
   },
   "outputs": [],
   "source": [
    "def read_luminex(folder, raw_pattern=\"Rawdata\", conc_pattern=\"ISA_conc\"):\n",
    "    '''\n",
    "    reads all luminex data from one folder\n",
    "    '''\n",
    "    \n",
    "    \n",
    "    #### file reading\n",
    "    # init the file lists\n",
    "    raw_file_list = []\n",
    "    \n",
    "    conc_file_list = []\n",
    "    \n",
    "    for f in [folder for folder in os.walk(data_path)]:\n",
    "        folder = f[0]\n",
    "        raw_files = [os.path.join(folder, file) for file in f[2] if raw_pattern in file and not os.path.basename(file).startswith(\"~$\")]\n",
    "        raw_file_list += raw_files\n",
    "        \n",
    "        conc_files = [os.path.join(folder, file) for file in f[2] if conc_pattern in file and not os.path.basename(file).startswith(\"~$\")]\n",
    "        conc_file_list += conc_files\n",
    "\n",
    "    # ######### raw files\n",
    "    # load in all the raw_files and store data in dfs\n",
    "    raw_col_dfs = []\n",
    "    data_dfs = []\n",
    "    plate_dfs = []\n",
    "    # cycle through raw files\n",
    "    for file in raw_file_list:\n",
    "        print(f\"Loading raw data file {file}\")\n",
    "        plate_df, data_df, raw_col_df = read_raw_plate(file)\n",
    "        raw_col_dfs.append(raw_col_df)\n",
    "        plate_dfs.append(plate_df)\n",
    "        data_dfs.append(data_df)\n",
    "    \n",
    "    plate_df = pd.concat(plate_dfs).sort_values(['Run', 'Plex'])\n",
    "    raw_col_df = pd.concat(raw_col_dfs).sort_values(['Run', 'col'])\n",
    "    data_df = pd.concat(data_dfs).sort_values(['Run', 'Plex', 'Well']).reset_index(drop=True)\n",
    "    \n",
    "    # ######## conc_files\n",
    "    conc_col_dfs = []\n",
    "    conc_dfs = []\n",
    "\n",
    "    # cycle through conc files\n",
    "    for file in conc_file_list:\n",
    "        print(f\"Loading concentration file {file}\")\n",
    "        conc_df, col_df = read_conc_plate(file)\n",
    "        conc_col_dfs.append(col_df)\n",
    "        conc_dfs.append(conc_df)\n",
    "    \n",
    "    conc_col_df = pd.concat(conc_col_dfs).sort_values(['Run', 'col']).loc[:, ['Run', 'Gene', 'col', 'S1']]\n",
    "    conc_df = pd.concat(conc_dfs).sort_values(['Run', 'Plex', 'Well']).reset_index(drop=True)    \n",
    "    \n",
    "    # check for consistency beween the plexes in raw and conc files\n",
    "    col_df = raw_col_df.merge(conc_col_df, how=\"outer\")\n",
    "    \n",
    "    return plate_df, col_df, data_df, conc_df"
   ]
  },
  {
   "cell_type": "markdown",
   "id": "ad7fb7d9",
   "metadata": {},
   "source": [
    "### read the data for all raw files and the \"ISA_conc\" files (from Sté)"
   ]
  },
  {
   "cell_type": "code",
   "execution_count": null,
   "id": "cd5d1540",
   "metadata": {
    "ExecuteTime": {
     "end_time": "2022-02-16T20:40:52.917800Z",
     "start_time": "2022-02-16T20:40:51.901846Z"
    }
   },
   "outputs": [],
   "source": [
    "plate_df, col_df, data_df, conc_df = read_luminex(data_path, raw_pattern=\"Rawdata\", conc_pattern=\"ISA_conc\")"
   ]
  },
  {
   "cell_type": "code",
   "execution_count": null,
   "id": "c7514f94",
   "metadata": {
    "ExecuteTime": {
     "end_time": "2022-02-16T20:40:53.689715Z",
     "start_time": "2022-02-16T20:40:53.676564Z"
    }
   },
   "outputs": [],
   "source": [
    "col_df"
   ]
  },
  {
   "cell_type": "markdown",
   "id": "11395fa1",
   "metadata": {},
   "source": [
    "### read the data for all raw files and the \"Conan_ISA\" files (from Micha)"
   ]
  },
  {
   "cell_type": "code",
   "execution_count": null,
   "id": "8e2494e5",
   "metadata": {
    "ExecuteTime": {
     "end_time": "2022-02-16T20:40:56.019215Z",
     "start_time": "2022-02-16T20:40:55.220692Z"
    }
   },
   "outputs": [],
   "source": [
    "_, col_df, _, conc_df = read_luminex(data_path, raw_pattern=\"Rawdata\", conc_pattern=\"Conan\")"
   ]
  },
  {
   "cell_type": "code",
   "execution_count": null,
   "id": "2e26b7bc",
   "metadata": {
    "ExecuteTime": {
     "end_time": "2022-02-16T20:40:56.105111Z",
     "start_time": "2022-02-16T20:40:56.099035Z"
    }
   },
   "outputs": [],
   "source": [
    "conc_df.query('Run == \"20211102\"').query('Plex == \"3-Plex\"')"
   ]
  },
  {
   "cell_type": "markdown",
   "id": "eb8eac2d",
   "metadata": {},
   "source": [
    "### combine the data"
   ]
  },
  {
   "cell_type": "code",
   "execution_count": null,
   "id": "48ee42dd",
   "metadata": {
    "ExecuteTime": {
     "end_time": "2022-02-16T20:41:06.216684Z",
     "start_time": "2022-02-16T20:41:04.454786Z"
    }
   },
   "outputs": [],
   "source": [
    "cols = {}\n",
    "concs = {}\n",
    "\n",
    "patterns = [\"conc\",\"Conan\"]\n",
    "\n",
    "for conc_pattern in patterns:\n",
    "    # reload the plate_df and data_df (are equal) but load conc data and derived col_df into dictionary\n",
    "    plate_df, cols[conc_pattern], data_df, concs[conc_pattern] = read_luminex(data_path, raw_pattern=\"Rawdata\", conc_pattern=conc_pattern)\n",
    "    \n",
    "suffix = [\"_\" + p for p in patterns]\n",
    "col_df = cols[patterns[0]].merge(cols[patterns[1]], on=[\"Run\", \"Plex\", \"Gene\", 'col'], how=\"outer\", suffixes=suffix).sort_values(['Run', 'Plex', 'col'])\n",
    "conc_df = concs[patterns[0]].merge(concs[patterns[1]], how=\"outer\", on=[\"Run\", \"Plex\", \"Well\", \"Gene\"], suffixes=suffix)"
   ]
  },
  {
   "cell_type": "markdown",
   "id": "2629b20d",
   "metadata": {},
   "source": [
    "### combine the types"
   ]
  },
  {
   "cell_type": "code",
   "execution_count": null,
   "id": "fef7ceb2",
   "metadata": {
    "ExecuteTime": {
     "end_time": "2022-02-16T20:41:06.328427Z",
     "start_time": "2022-02-16T20:41:06.320709Z"
    }
   },
   "outputs": [],
   "source": [
    "conc_df.loc[conc_df['Type_Conan'].notna(), 'Type'] = conc_df['Type_Conan']\n",
    "conc_df.loc[conc_df['Type_Conan'].isna(), 'Type'] = conc_df['Type_conc']\n",
    "conc_df"
   ]
  },
  {
   "cell_type": "markdown",
   "id": "179152c4",
   "metadata": {
    "ExecuteTime": {
     "end_time": "2022-02-16T19:27:30.950891Z",
     "start_time": "2022-02-16T19:27:30.946123Z"
    }
   },
   "source": [
    "### get the well sample connection"
   ]
  },
  {
   "cell_type": "code",
   "execution_count": null,
   "id": "d3d26439",
   "metadata": {
    "ExecuteTime": {
     "end_time": "2022-02-16T20:41:07.460484Z",
     "start_time": "2022-02-16T20:41:07.445201Z"
    }
   },
   "outputs": [],
   "source": [
    "def get_well_df(conc_df):\n",
    "    '''\n",
    "    retrieve the sample allocation to the wells\n",
    "    '''\n",
    "    # get the wells by a groupby\n",
    "    well_df = conc_df.groupby(['Run', 'Well']).agg({'Type': 'first'}).reset_index()\n",
    "    \n",
    "    # expand the duplicates \"H5,H6\" into single wells\n",
    "    dedup_well_df = well_df['Well'].str.extractall(r\"(?P<Well>[A-H][0-9]+)\").reset_index(level=1).drop(\"match\", axis=1)\n",
    "    # remerge for deduping\n",
    "    well_df = dedup_well_df.merge(well_df.drop('Well', axis=1), left_index=True, right_index=True)\n",
    "    return well_df.loc[:, ['Run', 'Well', 'Type']].rename({'Type': 'Sample'})"
   ]
  },
  {
   "cell_type": "code",
   "execution_count": null,
   "id": "03ca74eb",
   "metadata": {
    "ExecuteTime": {
     "end_time": "2022-02-16T20:41:08.532250Z",
     "start_time": "2022-02-16T20:41:08.505517Z"
    }
   },
   "outputs": [],
   "source": [
    "well_df = get_well_df(conc_df)\n",
    "well_df"
   ]
  },
  {
   "cell_type": "markdown",
   "id": "2b60ef3e",
   "metadata": {},
   "source": [
    "### now other types can be removed from conc data"
   ]
  },
  {
   "cell_type": "code",
   "execution_count": null,
   "id": "7e04abc0",
   "metadata": {
    "ExecuteTime": {
     "end_time": "2022-02-16T20:41:09.516268Z",
     "start_time": "2022-02-16T20:41:09.492726Z"
    }
   },
   "outputs": [],
   "source": [
    "conc_df = conc_df.loc[:, ['Run', 'Type', 'Well', 'Gene', 'conc_conc', 'conc_Conan']].rename({'Type': 'Sample'})\n",
    "conc_df"
   ]
  },
  {
   "cell_type": "markdown",
   "id": "7dab1405",
   "metadata": {},
   "source": [
    "### Type can be removed from raw data"
   ]
  },
  {
   "cell_type": "code",
   "execution_count": null,
   "id": "e07f5b6d",
   "metadata": {
    "ExecuteTime": {
     "end_time": "2022-02-16T20:41:10.646361Z",
     "start_time": "2022-02-16T20:41:10.619925Z"
    }
   },
   "outputs": [],
   "source": [
    "data_df.loc[~data_df['Type'].str.match(r\"^[SC][1-9]?\"), 'Type'] = \"\"\n",
    "data_df = data_df.loc[:, ['Run', 'Plex', 'Well', 'Type', 'Gene', 'FI', 'SamplingErrors']]\n",
    "data_df"
   ]
  },
  {
   "cell_type": "markdown",
   "id": "611a931f",
   "metadata": {},
   "source": [
    "### save to excel"
   ]
  },
  {
   "cell_type": "code",
   "execution_count": null,
   "id": "735a60a8",
   "metadata": {
    "ExecuteTime": {
     "end_time": "2022-02-16T20:41:13.641815Z",
     "start_time": "2022-02-16T20:41:12.466265Z"
    }
   },
   "outputs": [],
   "source": [
    "excel_out = os.path.join(data_path, \"../output/luminexcel.xlsx\")\n",
    "    \n",
    "\n",
    "with pd.ExcelWriter(excel_out, mode=\"w\") as writer:\n",
    "    plate_df.to_excel(writer, sheet_name=\"Plates\", index=False)\n",
    "    well_df.to_excel(writer, sheet_name=\"Wells\", index=False)\n",
    "    col_df.to_excel(writer, sheet_name=\"Plexes\", index=False)\n",
    "    data_df.to_excel(writer, sheet_name=\"RawData\", index=False)\n",
    "    conc_df.to_excel(writer, sheet_name=\"ComputedConc\", index=False)"
   ]
  },
  {
   "cell_type": "code",
   "execution_count": null,
   "id": "35710790",
   "metadata": {},
   "outputs": [],
   "source": []
  }
 ],
 "metadata": {
  "kernelspec": {
   "display_name": "Python 3 (ipykernel)",
   "language": "python",
   "name": "python3"
  },
  "language_info": {
   "codemirror_mode": {
    "name": "ipython",
    "version": 3
   },
   "file_extension": ".py",
   "mimetype": "text/x-python",
   "name": "python",
   "nbconvert_exporter": "python",
   "pygments_lexer": "ipython3",
   "version": "3.10.2"
  },
  "latex_envs": {
   "LaTeX_envs_menu_present": true,
   "autoclose": false,
   "autocomplete": true,
   "bibliofile": "biblio.bib",
   "cite_by": "apalike",
   "current_citInitial": 1,
   "eqLabelWithNumbers": true,
   "eqNumInitial": 1,
   "hotkeys": {
    "equation": "Ctrl-E",
    "itemize": "Ctrl-I"
   },
   "labels_anchors": false,
   "latex_user_defs": false,
   "report_style_numbering": false,
   "user_envs_cfg": false
  },
  "varInspector": {
   "cols": {
    "lenName": 16,
    "lenType": 16,
    "lenVar": 40
   },
   "kernels_config": {
    "python": {
     "delete_cmd_postfix": "",
     "delete_cmd_prefix": "del ",
     "library": "var_list.py",
     "varRefreshCmd": "print(var_dic_list())"
    },
    "r": {
     "delete_cmd_postfix": ") ",
     "delete_cmd_prefix": "rm(",
     "library": "var_list.r",
     "varRefreshCmd": "cat(var_dic_list()) "
    }
   },
   "types_to_exclude": [
    "module",
    "function",
    "builtin_function_or_method",
    "instance",
    "_Feature"
   ],
   "window_display": false
  }
 },
 "nbformat": 4,
 "nbformat_minor": 5
}
